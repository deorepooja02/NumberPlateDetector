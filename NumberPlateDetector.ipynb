{
 "cells": [
  {
   "cell_type": "code",
   "execution_count": null,
   "id": "4e759f9a",
   "metadata": {},
   "outputs": [],
   "source": []
  },
  {
   "cell_type": "code",
   "execution_count": 1,
   "id": "4227c6d5",
   "metadata": {},
   "outputs": [
    {
     "name": "stdout",
     "output_type": "stream",
     "text": [
      "\n",
      "Number is: \n",
      "Amount 500rs is debited for car number :  \n"
     ]
    }
   ],
   "source": [
    "# importing required packages\n",
    "import cv2\n",
    "import imutils\n",
    "import numpy as np\n",
    "import pytesseract\n",
    "from PIL import Image\n",
    "# providing path of tesseract library installed in our system\n",
    "pytesseract.pytesseract.tesseract_cmd = r'C:\\Program Files\\Tesseract-OCR\\tesseract.exe'\n",
    "# reading the image\n",
    "img = cv2.imread('image_2022-05-10_172303375.png',cv2.IMREAD_COLOR)\n",
    "#cv2.imshow(\"original image\",img)\n",
    "#cv2.waitKey(0)\n",
    "# resizing the image\n",
    "img = imutils.resize(img,width=500 )\n",
    "cv2.imshow(\"resized image\",img)\n",
    "cv2.waitKey(0)\n",
    "#convert to grey scale\n",
    "gray = cv2.cvtColor(img, cv2.COLOR_BGR2GRAY) \n",
    "cv2.imshow(\"convert to grey scale\",gray)\n",
    "cv2.waitKey(0)\n",
    "#Blur to reduce noise\n",
    "gray = cv2.bilateralFilter(gray, 11, 17, 17) \n",
    "cv2.imshow(\"Blur to reduce noiseg\",gray)\n",
    "cv2.waitKey(0)\n",
    "#Perform Edge detection\n",
    "# find contours from the edged image and keep only the largest\n",
    "# ones, and initialize our screen contour\n",
    "edged = cv2.Canny(gray, 30, 200) \n",
    "cnts,new = cv2.findContours(edged.copy(), cv2.RETR_LIST, cv2.CHAIN_APPROX_SIMPLE)\n",
    "img1=img.copy()\n",
    "cv2.drawContours(img1,cnts,-1,(0,255,0),3)\n",
    "cv2.imshow(\"img1\",img1)\n",
    "cv2.waitKey(0)\n",
    "#sorts contours based on minimum area 30 and ignores the ones below that\n",
    "cnts = sorted(cnts, key = cv2.contourArea, reverse = True)[:30]\n",
    "#will store the number plate contour\n",
    "screenCnt = None\n",
    "img2 = img.copy()\n",
    "cv2.drawContours(img2,cnts,-1,(0,255,0),3) \n",
    "#top 30 contours\n",
    "cv2.imshow(\"img2\",img2) \n",
    "cv2.waitKey(0)\n",
    "count=0\n",
    "idx=7\n",
    "# loop over contours\n",
    "for c in cnts:\n",
    "  # approximate the contour\n",
    "        peri = cv2.arcLength(c, True)\n",
    "        approx = cv2.approxPolyDP(c, 0.018 * peri, True)\n",
    "         #chooses contours with 4 corners\n",
    "        if len(approx) == 4:\n",
    "                screenCnt = approx\n",
    "                #finds co-ordinates of the plate\n",
    "                x,y,w,h = cv2.boundingRect(c) \n",
    "                new_img=img[y:y+h,x:x+w]\n",
    "                #stores the new image\n",
    "                cv2.imwrite('./'+str(idx)+'.png',new_img) \n",
    "                idx+=1\n",
    "                break\n",
    "                #draws the selected contour on original image        \n",
    "cv2.drawContours(img, [screenCnt], -1, (0, 255, 0), 3)\n",
    "cv2.imshow(\"Final image with plate detected\",img)\n",
    "cv2.waitKey(0)\n",
    " #the filename of cropped image\n",
    "Cropped_loc='./7.png'\n",
    "cv2.imshow(\"cropped\",cv2.imread(Cropped_loc))\n",
    " #converts image characters to string\n",
    "text=pytesseract.image_to_string(Cropped_loc,lang='eng')\n",
    "print(text)\n",
    "print(\"Number is:\",text)\n",
    "print(\"Amount 500rs is debited for car number : \",text)\n",
    "cv2.waitKey(0)\n",
    "cv2.destroyAllWindows()"
   ]
  },
  {
   "cell_type": "code",
   "execution_count": null,
   "id": "fc09eaa1",
   "metadata": {},
   "outputs": [],
   "source": []
  }
 ],
 "metadata": {
  "kernelspec": {
   "display_name": "Python 3 (ipykernel)",
   "language": "python",
   "name": "python3"
  },
  "language_info": {
   "codemirror_mode": {
    "name": "ipython",
    "version": 3
   },
   "file_extension": ".py",
   "mimetype": "text/x-python",
   "name": "python",
   "nbconvert_exporter": "python",
   "pygments_lexer": "ipython3",
   "version": "3.9.7"
  }
 },
 "nbformat": 4,
 "nbformat_minor": 5
}
